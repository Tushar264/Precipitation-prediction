{
 "cells": [
  {
   "cell_type": "code",
   "execution_count": 1,
   "id": "1324ade7",
   "metadata": {},
   "outputs": [
    {
     "name": "stdout",
     "output_type": "stream",
     "text": [
      "          STATION                             NAME        DATE  AWND  PGTM  \\\n",
      "0     USW00093134  LOS ANGELES DOWNTOWN USC, CA US  2016-01-01  2.46   NaN   \n",
      "1     USW00093134  LOS ANGELES DOWNTOWN USC, CA US  2016-01-02  2.01   NaN   \n",
      "2     USW00093134  LOS ANGELES DOWNTOWN USC, CA US  2016-01-03  0.67   NaN   \n",
      "3     USW00093134  LOS ANGELES DOWNTOWN USC, CA US  2016-01-04  1.34   NaN   \n",
      "4     USW00093134  LOS ANGELES DOWNTOWN USC, CA US  2016-01-05  2.46   NaN   \n",
      "...           ...                              ...         ...   ...   ...   \n",
      "1822  USW00093134  LOS ANGELES DOWNTOWN USC, CA US  2020-12-27  1.12   NaN   \n",
      "1823  USW00093134  LOS ANGELES DOWNTOWN USC, CA US  2020-12-28  4.70   NaN   \n",
      "1824  USW00093134  LOS ANGELES DOWNTOWN USC, CA US  2020-12-29  1.57   NaN   \n",
      "1825  USW00093134  LOS ANGELES DOWNTOWN USC, CA US  2020-12-30  0.45   NaN   \n",
      "1826  USW00093134  LOS ANGELES DOWNTOWN USC, CA US  2020-12-31  1.57   NaN   \n",
      "\n",
      "      PRCP  TAVG  TMAX  TMIN   WDF2   WDF5  WSF2  WSF5  WT01  WT02  WT08  \n",
      "0     0.00   NaN    64    43   10.0   30.0   8.1  11.0   NaN   NaN   1.0  \n",
      "1     0.00   NaN    65    47  270.0   30.0   6.0   8.9   NaN   NaN   NaN  \n",
      "2     0.00   NaN    62    44  150.0  150.0  10.1  14.1   NaN   NaN   NaN  \n",
      "3     0.01   NaN    69    55  270.0  280.0   8.1  14.1   NaN   NaN   NaN  \n",
      "4     1.61   NaN    59    49  140.0  140.0  10.1  16.1   1.0   1.0   NaN  \n",
      "...    ...   ...   ...   ...    ...    ...   ...   ...   ...   ...   ...  \n",
      "1822  0.01   NaN    66    55  270.0  260.0   8.9  18.1   1.0   NaN   1.0  \n",
      "1823  1.81   NaN    56    47   90.0  260.0  14.1  21.0   1.0   NaN   NaN  \n",
      "1824  0.00   NaN    65    42  340.0  360.0  10.1  18.1   NaN   NaN   NaN  \n",
      "1825  0.00   NaN    69    44  260.0  260.0   6.9  12.1   NaN   NaN   NaN  \n",
      "1826  0.00   NaN    70    43  350.0  350.0  12.1  19.9   NaN   NaN   NaN  \n",
      "\n",
      "[1827 rows x 16 columns]\n"
     ]
    }
   ],
   "source": [
    "#importing data\n",
    "import pandas as pd\n",
    "df=pd.read_csv('dataset.csv')\n",
    "print(df)"
   ]
  },
  {
   "cell_type": "code",
   "execution_count": 2,
   "id": "7d1fc90c",
   "metadata": {},
   "outputs": [
    {
     "name": "stdout",
     "output_type": "stream",
     "text": [
      "          STATION                             NAME        DATE  AWND  PGTM  \\\n",
      "0     USW00093134  LOS ANGELES DOWNTOWN USC, CA US  2016-01-01  2.46   NaN   \n",
      "1     USW00093134  LOS ANGELES DOWNTOWN USC, CA US  2016-01-02  2.01   NaN   \n",
      "2     USW00093134  LOS ANGELES DOWNTOWN USC, CA US  2016-01-03  0.67   NaN   \n",
      "3     USW00093134  LOS ANGELES DOWNTOWN USC, CA US  2016-01-04  1.34   NaN   \n",
      "4     USW00093134  LOS ANGELES DOWNTOWN USC, CA US  2016-01-05  2.46   NaN   \n",
      "...           ...                              ...         ...   ...   ...   \n",
      "1822  USW00093134  LOS ANGELES DOWNTOWN USC, CA US  2020-12-27  1.12   NaN   \n",
      "1823  USW00093134  LOS ANGELES DOWNTOWN USC, CA US  2020-12-28  4.70   NaN   \n",
      "1824  USW00093134  LOS ANGELES DOWNTOWN USC, CA US  2020-12-29  1.57   NaN   \n",
      "1825  USW00093134  LOS ANGELES DOWNTOWN USC, CA US  2020-12-30  0.45   NaN   \n",
      "1826  USW00093134  LOS ANGELES DOWNTOWN USC, CA US  2020-12-31  1.57   NaN   \n",
      "\n",
      "      PRCP  TAVG  TMAX  TMIN   WDF2   WDF5  WSF2  WSF5  WT01  WT02  WT08  \n",
      "0      0.0   NaN    64    43   10.0   30.0   8.1  11.0   NaN   NaN   1.0  \n",
      "1      0.0   NaN    65    47  270.0   30.0   6.0   8.9   NaN   NaN   NaN  \n",
      "2      0.0   NaN    62    44  150.0  150.0  10.1  14.1   NaN   NaN   NaN  \n",
      "3      1.0   NaN    69    55  270.0  280.0   8.1  14.1   NaN   NaN   NaN  \n",
      "4      1.0   NaN    59    49  140.0  140.0  10.1  16.1   1.0   1.0   NaN  \n",
      "...    ...   ...   ...   ...    ...    ...   ...   ...   ...   ...   ...  \n",
      "1822   1.0   NaN    66    55  270.0  260.0   8.9  18.1   1.0   NaN   1.0  \n",
      "1823   1.0   NaN    56    47   90.0  260.0  14.1  21.0   1.0   NaN   NaN  \n",
      "1824   0.0   NaN    65    42  340.0  360.0  10.1  18.1   NaN   NaN   NaN  \n",
      "1825   0.0   NaN    69    44  260.0  260.0   6.9  12.1   NaN   NaN   NaN  \n",
      "1826   0.0   NaN    70    43  350.0  350.0  12.1  19.9   NaN   NaN   NaN  \n",
      "\n",
      "[1827 rows x 16 columns]\n"
     ]
    }
   ],
   "source": [
    "#replacing all PRCP values greater than 0 as 1\n",
    "df.loc[df['PRCP']>0,'PRCP']=1\n",
    "print(df)"
   ]
  },
  {
   "cell_type": "code",
   "execution_count": 3,
   "id": "2f863cbc",
   "metadata": {},
   "outputs": [
    {
     "data": {
      "image/png": "[encoded data removed]",
      "text/plain": [
       "<Figure size 432x288 with 1 Axes>"
      ]
     },
     "metadata": {
      "needs_background": "light"
     },
     "output_type": "display_data"
    }
   ],
   "source": [
    "%matplotlib inline\n",
    "from matplotlib import pyplot as plt\n",
    "import pandas as pd\n",
    "plt.plot(df['PRCP'])\n",
    "plt.title('Precipitaion prediction')\n",
    "plt.xlabel('Number of stations')\n",
    "plt.ylabel('Precipitation')\n",
    "plt.show()"
   ]
  },
  {
   "cell_type": "code",
   "execution_count": 4,
   "id": "277072b7",
   "metadata": {},
   "outputs": [
    {
     "data": {
      "text/html": [
       "<div>\n",
       "<style scoped>\n",
       "    .dataframe tbody tr th:only-of-type {\n",
       "        vertical-align: middle;\n",
       "    }\n",
       "\n",
       "    .dataframe tbody tr th {\n",
       "        vertical-align: top;\n",
       "    }\n",
       "\n",
       "    .dataframe thead th {\n",
       "        text-align: right;\n",
       "    }\n",
       "</style>\n",
       "<table border=\"1\" class=\"dataframe\">\n",
       "  <thead>\n",
       "    <tr style=\"text-align: right;\">\n",
       "      <th></th>\n",
       "      <th>STATION</th>\n",
       "      <th>NAME</th>\n",
       "      <th>DATE</th>\n",
       "      <th>AWND</th>\n",
       "      <th>PGTM</th>\n",
       "      <th>PRCP</th>\n",
       "      <th>TAVG</th>\n",
       "      <th>TMAX</th>\n",
       "      <th>TMIN</th>\n",
       "      <th>WDF2</th>\n",
       "      <th>WDF5</th>\n",
       "      <th>WSF2</th>\n",
       "      <th>WSF5</th>\n",
       "      <th>WT01</th>\n",
       "      <th>WT02</th>\n",
       "      <th>WT08</th>\n",
       "    </tr>\n",
       "  </thead>\n",
       "  <tbody>\n",
       "    <tr>\n",
       "      <th>369</th>\n",
       "      <td>USW00093134</td>\n",
       "      <td>LOS ANGELES DOWNTOWN USC, CA US</td>\n",
       "      <td>2017-01-04</td>\n",
       "      <td>1.12</td>\n",
       "      <td>NaN</td>\n",
       "      <td>1.0</td>\n",
       "      <td>NaN</td>\n",
       "      <td>63</td>\n",
       "      <td>47</td>\n",
       "      <td>90.0</td>\n",
       "      <td>100.0</td>\n",
       "      <td>8.1</td>\n",
       "      <td>13.0</td>\n",
       "      <td>1.0</td>\n",
       "      <td>NaN</td>\n",
       "      <td>1.0</td>\n",
       "    </tr>\n",
       "    <tr>\n",
       "      <th>1154</th>\n",
       "      <td>USW00093134</td>\n",
       "      <td>LOS ANGELES DOWNTOWN USC, CA US</td>\n",
       "      <td>2019-02-28</td>\n",
       "      <td>2.68</td>\n",
       "      <td>NaN</td>\n",
       "      <td>1.0</td>\n",
       "      <td>NaN</td>\n",
       "      <td>67</td>\n",
       "      <td>56</td>\n",
       "      <td>260.0</td>\n",
       "      <td>280.0</td>\n",
       "      <td>6.9</td>\n",
       "      <td>11.0</td>\n",
       "      <td>1.0</td>\n",
       "      <td>NaN</td>\n",
       "      <td>1.0</td>\n",
       "    </tr>\n",
       "    <tr>\n",
       "      <th>1822</th>\n",
       "      <td>USW00093134</td>\n",
       "      <td>LOS ANGELES DOWNTOWN USC, CA US</td>\n",
       "      <td>2020-12-27</td>\n",
       "      <td>1.12</td>\n",
       "      <td>NaN</td>\n",
       "      <td>1.0</td>\n",
       "      <td>NaN</td>\n",
       "      <td>66</td>\n",
       "      <td>55</td>\n",
       "      <td>270.0</td>\n",
       "      <td>260.0</td>\n",
       "      <td>8.9</td>\n",
       "      <td>18.1</td>\n",
       "      <td>1.0</td>\n",
       "      <td>NaN</td>\n",
       "      <td>1.0</td>\n",
       "    </tr>\n",
       "    <tr>\n",
       "      <th>1153</th>\n",
       "      <td>USW00093134</td>\n",
       "      <td>LOS ANGELES DOWNTOWN USC, CA US</td>\n",
       "      <td>2019-02-27</td>\n",
       "      <td>1.34</td>\n",
       "      <td>NaN</td>\n",
       "      <td>1.0</td>\n",
       "      <td>NaN</td>\n",
       "      <td>66</td>\n",
       "      <td>50</td>\n",
       "      <td>270.0</td>\n",
       "      <td>270.0</td>\n",
       "      <td>8.9</td>\n",
       "      <td>15.0</td>\n",
       "      <td>1.0</td>\n",
       "      <td>NaN</td>\n",
       "      <td>1.0</td>\n",
       "    </tr>\n",
       "    <tr>\n",
       "      <th>1822</th>\n",
       "      <td>USW00093134</td>\n",
       "      <td>LOS ANGELES DOWNTOWN USC, CA US</td>\n",
       "      <td>2020-12-27</td>\n",
       "      <td>1.12</td>\n",
       "      <td>NaN</td>\n",
       "      <td>1.0</td>\n",
       "      <td>NaN</td>\n",
       "      <td>66</td>\n",
       "      <td>55</td>\n",
       "      <td>270.0</td>\n",
       "      <td>260.0</td>\n",
       "      <td>8.9</td>\n",
       "      <td>18.1</td>\n",
       "      <td>1.0</td>\n",
       "      <td>NaN</td>\n",
       "      <td>1.0</td>\n",
       "    </tr>\n",
       "    <tr>\n",
       "      <th>...</th>\n",
       "      <td>...</td>\n",
       "      <td>...</td>\n",
       "      <td>...</td>\n",
       "      <td>...</td>\n",
       "      <td>...</td>\n",
       "      <td>...</td>\n",
       "      <td>...</td>\n",
       "      <td>...</td>\n",
       "      <td>...</td>\n",
       "      <td>...</td>\n",
       "      <td>...</td>\n",
       "      <td>...</td>\n",
       "      <td>...</td>\n",
       "      <td>...</td>\n",
       "      <td>...</td>\n",
       "      <td>...</td>\n",
       "    </tr>\n",
       "    <tr>\n",
       "      <th>1820</th>\n",
       "      <td>USW00093134</td>\n",
       "      <td>LOS ANGELES DOWNTOWN USC, CA US</td>\n",
       "      <td>2020-12-25</td>\n",
       "      <td>1.57</td>\n",
       "      <td>NaN</td>\n",
       "      <td>0.0</td>\n",
       "      <td>NaN</td>\n",
       "      <td>75</td>\n",
       "      <td>52</td>\n",
       "      <td>270.0</td>\n",
       "      <td>270.0</td>\n",
       "      <td>8.9</td>\n",
       "      <td>14.1</td>\n",
       "      <td>NaN</td>\n",
       "      <td>NaN</td>\n",
       "      <td>NaN</td>\n",
       "    </tr>\n",
       "    <tr>\n",
       "      <th>1821</th>\n",
       "      <td>USW00093134</td>\n",
       "      <td>LOS ANGELES DOWNTOWN USC, CA US</td>\n",
       "      <td>2020-12-26</td>\n",
       "      <td>0.67</td>\n",
       "      <td>NaN</td>\n",
       "      <td>0.0</td>\n",
       "      <td>NaN</td>\n",
       "      <td>69</td>\n",
       "      <td>46</td>\n",
       "      <td>260.0</td>\n",
       "      <td>250.0</td>\n",
       "      <td>6.9</td>\n",
       "      <td>12.1</td>\n",
       "      <td>NaN</td>\n",
       "      <td>NaN</td>\n",
       "      <td>NaN</td>\n",
       "    </tr>\n",
       "    <tr>\n",
       "      <th>1824</th>\n",
       "      <td>USW00093134</td>\n",
       "      <td>LOS ANGELES DOWNTOWN USC, CA US</td>\n",
       "      <td>2020-12-29</td>\n",
       "      <td>1.57</td>\n",
       "      <td>NaN</td>\n",
       "      <td>0.0</td>\n",
       "      <td>NaN</td>\n",
       "      <td>65</td>\n",
       "      <td>42</td>\n",
       "      <td>340.0</td>\n",
       "      <td>360.0</td>\n",
       "      <td>10.1</td>\n",
       "      <td>18.1</td>\n",
       "      <td>NaN</td>\n",
       "      <td>NaN</td>\n",
       "      <td>NaN</td>\n",
       "    </tr>\n",
       "    <tr>\n",
       "      <th>1825</th>\n",
       "      <td>USW00093134</td>\n",
       "      <td>LOS ANGELES DOWNTOWN USC, CA US</td>\n",
       "      <td>2020-12-30</td>\n",
       "      <td>0.45</td>\n",
       "      <td>NaN</td>\n",
       "      <td>0.0</td>\n",
       "      <td>NaN</td>\n",
       "      <td>69</td>\n",
       "      <td>44</td>\n",
       "      <td>260.0</td>\n",
       "      <td>260.0</td>\n",
       "      <td>6.9</td>\n",
       "      <td>12.1</td>\n",
       "      <td>NaN</td>\n",
       "      <td>NaN</td>\n",
       "      <td>NaN</td>\n",
       "    </tr>\n",
       "    <tr>\n",
       "      <th>1826</th>\n",
       "      <td>USW00093134</td>\n",
       "      <td>LOS ANGELES DOWNTOWN USC, CA US</td>\n",
       "      <td>2020-12-31</td>\n",
       "      <td>1.57</td>\n",
       "      <td>NaN</td>\n",
       "      <td>0.0</td>\n",
       "      <td>NaN</td>\n",
       "      <td>70</td>\n",
       "      <td>43</td>\n",
       "      <td>350.0</td>\n",
       "      <td>350.0</td>\n",
       "      <td>12.1</td>\n",
       "      <td>19.9</td>\n",
       "      <td>NaN</td>\n",
       "      <td>NaN</td>\n",
       "      <td>NaN</td>\n",
       "    </tr>\n",
       "  </tbody>\n",
       "</table>\n",
       "<p>1827 rows × 16 columns</p>\n",
       "</div>"
      ],
      "text/plain": [
       "          STATION                             NAME        DATE  AWND  PGTM  \\\n",
       "369   USW00093134  LOS ANGELES DOWNTOWN USC, CA US  2017-01-04  1.12   NaN   \n",
       "1154  USW00093134  LOS ANGELES DOWNTOWN USC, CA US  2019-02-28  2.68   NaN   \n",
       "1822  USW00093134  LOS ANGELES DOWNTOWN USC, CA US  2020-12-27  1.12   NaN   \n",
       "1153  USW00093134  LOS ANGELES DOWNTOWN USC, CA US  2019-02-27  1.34   NaN   \n",
       "1822  USW00093134  LOS ANGELES DOWNTOWN USC, CA US  2020-12-27  1.12   NaN   \n",
       "...           ...                              ...         ...   ...   ...   \n",
       "1820  USW00093134  LOS ANGELES DOWNTOWN USC, CA US  2020-12-25  1.57   NaN   \n",
       "1821  USW00093134  LOS ANGELES DOWNTOWN USC, CA US  2020-12-26  0.67   NaN   \n",
       "1824  USW00093134  LOS ANGELES DOWNTOWN USC, CA US  2020-12-29  1.57   NaN   \n",
       "1825  USW00093134  LOS ANGELES DOWNTOWN USC, CA US  2020-12-30  0.45   NaN   \n",
       "1826  USW00093134  LOS ANGELES DOWNTOWN USC, CA US  2020-12-31  1.57   NaN   \n",
       "\n",
       "      PRCP  TAVG  TMAX  TMIN   WDF2   WDF5  WSF2  WSF5  WT01  WT02  WT08  \n",
       "369    1.0   NaN    63    47   90.0  100.0   8.1  13.0   1.0   NaN   1.0  \n",
       "1154   1.0   NaN    67    56  260.0  280.0   6.9  11.0   1.0   NaN   1.0  \n",
       "1822   1.0   NaN    66    55  270.0  260.0   8.9  18.1   1.0   NaN   1.0  \n",
       "1153   1.0   NaN    66    50  270.0  270.0   8.9  15.0   1.0   NaN   1.0  \n",
       "1822   1.0   NaN    66    55  270.0  260.0   8.9  18.1   1.0   NaN   1.0  \n",
       "...    ...   ...   ...   ...    ...    ...   ...   ...   ...   ...   ...  \n",
       "1820   0.0   NaN    75    52  270.0  270.0   8.9  14.1   NaN   NaN   NaN  \n",
       "1821   0.0   NaN    69    46  260.0  250.0   6.9  12.1   NaN   NaN   NaN  \n",
       "1824   0.0   NaN    65    42  340.0  360.0  10.1  18.1   NaN   NaN   NaN  \n",
       "1825   0.0   NaN    69    44  260.0  260.0   6.9  12.1   NaN   NaN   NaN  \n",
       "1826   0.0   NaN    70    43  350.0  350.0  12.1  19.9   NaN   NaN   NaN  \n",
       "\n",
       "[1827 rows x 16 columns]"
      ]
     },
     "execution_count": 4,
     "metadata": {},
     "output_type": "execute_result"
    }
   ],
   "source": [
    "from sklearn.utils import resample,shuffle\n",
    "df_1 = df[df['PRCP'] == 1]\n",
    "other_df = df[df['PRCP'] == 0]\n",
    "#upsample the minority class\n",
    "df_1_upsampled = resample(df_1,random_state=None,n_samples=None,replace=True)\n",
    "#concatenate the upsampled dataframe\n",
    "df_upsampled = pd.concat([df_1_upsampled,other_df])\n",
    "df_upsampled"
   ]
  },
  {
   "cell_type": "code",
   "execution_count": 5,
   "id": "88bf5018",
   "metadata": {
    "scrolled": true
   },
   "outputs": [
    {
     "data": {
      "text/plain": [
       "STATION    0.000000\n",
       "NAME       0.000000\n",
       "DATE       0.000000\n",
       "AWND       0.002189\n",
       "PGTM       0.966065\n",
       "PRCP       0.000000\n",
       "TAVG       1.000000\n",
       "TMAX       0.000000\n",
       "TMIN       0.000000\n",
       "WDF2       0.002737\n",
       "WDF5       0.009852\n",
       "WSF2       0.002189\n",
       "WSF5       0.009852\n",
       "WT01       0.698413\n",
       "WT02       0.978654\n",
       "WT08       0.528736\n",
       "dtype: float64"
      ]
     },
     "execution_count": 5,
     "metadata": {},
     "output_type": "execute_result"
    }
   ],
   "source": [
    "df.isnull().mean()"
   ]
  },
  {
   "cell_type": "code",
   "execution_count": 6,
   "id": "5863412b",
   "metadata": {},
   "outputs": [],
   "source": [
    "#dropping features with many null values\n",
    "df=df[df.columns[df.isnull().mean() < 0.01]]"
   ]
  },
  {
   "cell_type": "code",
   "execution_count": 7,
   "id": "b0ceee27",
   "metadata": {},
   "outputs": [],
   "source": [
    "#converting the rest of the null values with mode\n",
    "df['AWND'] = df['AWND'].fillna(df['AWND'].mode()[0])\n",
    "df['PRCP'] = df['PRCP'].fillna(df['PRCP'].mode()[0])\n",
    "df['TMAX'] = df['TMAX'].fillna(df['TMAX'].mode()[0])\n",
    "df['TMIN'] = df['TMIN'].fillna(df['TMIN'].mode()[0])\n",
    "df['WDF2'] = df['WDF2'].fillna(df['WDF2'].mode()[0])\n",
    "df['WDF5'] = df['WDF5'].fillna(df['WDF5'].mode()[0])\n",
    "df['WSF2'] = df['WSF2'].fillna(df['WSF2'].mode()[0])\n",
    "df['WSF5'] = df['WSF5'].fillna(df['WSF5'].mode()[0])"
   ]
  },
  {
   "cell_type": "code",
   "execution_count": 8,
   "id": "3319336a",
   "metadata": {},
   "outputs": [
    {
     "data": {
      "text/html": [
       "<div>\n",
       "<style scoped>\n",
       "    .dataframe tbody tr th:only-of-type {\n",
       "        vertical-align: middle;\n",
       "    }\n",
       "\n",
       "    .dataframe tbody tr th {\n",
       "        vertical-align: top;\n",
       "    }\n",
       "\n",
       "    .dataframe thead th {\n",
       "        text-align: right;\n",
       "    }\n",
       "</style>\n",
       "<table border=\"1\" class=\"dataframe\">\n",
       "  <thead>\n",
       "    <tr style=\"text-align: right;\">\n",
       "      <th></th>\n",
       "      <th>STATION</th>\n",
       "      <th>NAME</th>\n",
       "      <th>DATE</th>\n",
       "      <th>AWND</th>\n",
       "      <th>PRCP</th>\n",
       "      <th>TMAX</th>\n",
       "      <th>TMIN</th>\n",
       "      <th>WDF2</th>\n",
       "      <th>WDF5</th>\n",
       "      <th>WSF2</th>\n",
       "      <th>WSF5</th>\n",
       "    </tr>\n",
       "  </thead>\n",
       "  <tbody>\n",
       "    <tr>\n",
       "      <th>0</th>\n",
       "      <td>USW00093134</td>\n",
       "      <td>LOS ANGELES DOWNTOWN USC, CA US</td>\n",
       "      <td>2016-01-01</td>\n",
       "      <td>2.46</td>\n",
       "      <td>0.0</td>\n",
       "      <td>64</td>\n",
       "      <td>43</td>\n",
       "      <td>10.0</td>\n",
       "      <td>30.0</td>\n",
       "      <td>8.1</td>\n",
       "      <td>11.0</td>\n",
       "    </tr>\n",
       "    <tr>\n",
       "      <th>1</th>\n",
       "      <td>USW00093134</td>\n",
       "      <td>LOS ANGELES DOWNTOWN USC, CA US</td>\n",
       "      <td>2016-01-02</td>\n",
       "      <td>2.01</td>\n",
       "      <td>0.0</td>\n",
       "      <td>65</td>\n",
       "      <td>47</td>\n",
       "      <td>270.0</td>\n",
       "      <td>30.0</td>\n",
       "      <td>6.0</td>\n",
       "      <td>8.9</td>\n",
       "    </tr>\n",
       "    <tr>\n",
       "      <th>2</th>\n",
       "      <td>USW00093134</td>\n",
       "      <td>LOS ANGELES DOWNTOWN USC, CA US</td>\n",
       "      <td>2016-01-03</td>\n",
       "      <td>0.67</td>\n",
       "      <td>0.0</td>\n",
       "      <td>62</td>\n",
       "      <td>44</td>\n",
       "      <td>150.0</td>\n",
       "      <td>150.0</td>\n",
       "      <td>10.1</td>\n",
       "      <td>14.1</td>\n",
       "    </tr>\n",
       "    <tr>\n",
       "      <th>3</th>\n",
       "      <td>USW00093134</td>\n",
       "      <td>LOS ANGELES DOWNTOWN USC, CA US</td>\n",
       "      <td>2016-01-04</td>\n",
       "      <td>1.34</td>\n",
       "      <td>1.0</td>\n",
       "      <td>69</td>\n",
       "      <td>55</td>\n",
       "      <td>270.0</td>\n",
       "      <td>280.0</td>\n",
       "      <td>8.1</td>\n",
       "      <td>14.1</td>\n",
       "    </tr>\n",
       "    <tr>\n",
       "      <th>4</th>\n",
       "      <td>USW00093134</td>\n",
       "      <td>LOS ANGELES DOWNTOWN USC, CA US</td>\n",
       "      <td>2016-01-05</td>\n",
       "      <td>2.46</td>\n",
       "      <td>1.0</td>\n",
       "      <td>59</td>\n",
       "      <td>49</td>\n",
       "      <td>140.0</td>\n",
       "      <td>140.0</td>\n",
       "      <td>10.1</td>\n",
       "      <td>16.1</td>\n",
       "    </tr>\n",
       "    <tr>\n",
       "      <th>...</th>\n",
       "      <td>...</td>\n",
       "      <td>...</td>\n",
       "      <td>...</td>\n",
       "      <td>...</td>\n",
       "      <td>...</td>\n",
       "      <td>...</td>\n",
       "      <td>...</td>\n",
       "      <td>...</td>\n",
       "      <td>...</td>\n",
       "      <td>...</td>\n",
       "      <td>...</td>\n",
       "    </tr>\n",
       "    <tr>\n",
       "      <th>535</th>\n",
       "      <td>USW00093134</td>\n",
       "      <td>LOS ANGELES DOWNTOWN USC, CA US</td>\n",
       "      <td>2017-06-19</td>\n",
       "      <td>1.57</td>\n",
       "      <td>0.0</td>\n",
       "      <td>84</td>\n",
       "      <td>63</td>\n",
       "      <td>270.0</td>\n",
       "      <td>270.0</td>\n",
       "      <td>8.1</td>\n",
       "      <td>13.0</td>\n",
       "    </tr>\n",
       "    <tr>\n",
       "      <th>536</th>\n",
       "      <td>USW00093134</td>\n",
       "      <td>LOS ANGELES DOWNTOWN USC, CA US</td>\n",
       "      <td>2017-06-20</td>\n",
       "      <td>2.01</td>\n",
       "      <td>0.0</td>\n",
       "      <td>84</td>\n",
       "      <td>63</td>\n",
       "      <td>270.0</td>\n",
       "      <td>260.0</td>\n",
       "      <td>8.1</td>\n",
       "      <td>13.0</td>\n",
       "    </tr>\n",
       "    <tr>\n",
       "      <th>537</th>\n",
       "      <td>USW00093134</td>\n",
       "      <td>LOS ANGELES DOWNTOWN USC, CA US</td>\n",
       "      <td>2017-06-21</td>\n",
       "      <td>1.79</td>\n",
       "      <td>0.0</td>\n",
       "      <td>82</td>\n",
       "      <td>64</td>\n",
       "      <td>270.0</td>\n",
       "      <td>280.0</td>\n",
       "      <td>6.9</td>\n",
       "      <td>11.0</td>\n",
       "    </tr>\n",
       "    <tr>\n",
       "      <th>538</th>\n",
       "      <td>USW00093134</td>\n",
       "      <td>LOS ANGELES DOWNTOWN USC, CA US</td>\n",
       "      <td>2017-06-22</td>\n",
       "      <td>0.00</td>\n",
       "      <td>0.0</td>\n",
       "      <td>81</td>\n",
       "      <td>65</td>\n",
       "      <td>270.0</td>\n",
       "      <td>270.0</td>\n",
       "      <td>8.9</td>\n",
       "      <td>14.1</td>\n",
       "    </tr>\n",
       "    <tr>\n",
       "      <th>539</th>\n",
       "      <td>USW00093134</td>\n",
       "      <td>LOS ANGELES DOWNTOWN USC, CA US</td>\n",
       "      <td>2017-06-23</td>\n",
       "      <td>2.68</td>\n",
       "      <td>0.0</td>\n",
       "      <td>78</td>\n",
       "      <td>63</td>\n",
       "      <td>270.0</td>\n",
       "      <td>280.0</td>\n",
       "      <td>10.1</td>\n",
       "      <td>17.0</td>\n",
       "    </tr>\n",
       "  </tbody>\n",
       "</table>\n",
       "<p>540 rows × 11 columns</p>\n",
       "</div>"
      ],
      "text/plain": [
       "         STATION                             NAME        DATE  AWND  PRCP  \\\n",
       "0    USW00093134  LOS ANGELES DOWNTOWN USC, CA US  2016-01-01  2.46   0.0   \n",
       "1    USW00093134  LOS ANGELES DOWNTOWN USC, CA US  2016-01-02  2.01   0.0   \n",
       "2    USW00093134  LOS ANGELES DOWNTOWN USC, CA US  2016-01-03  0.67   0.0   \n",
       "3    USW00093134  LOS ANGELES DOWNTOWN USC, CA US  2016-01-04  1.34   1.0   \n",
       "4    USW00093134  LOS ANGELES DOWNTOWN USC, CA US  2016-01-05  2.46   1.0   \n",
       "..           ...                              ...         ...   ...   ...   \n",
       "535  USW00093134  LOS ANGELES DOWNTOWN USC, CA US  2017-06-19  1.57   0.0   \n",
       "536  USW00093134  LOS ANGELES DOWNTOWN USC, CA US  2017-06-20  2.01   0.0   \n",
       "537  USW00093134  LOS ANGELES DOWNTOWN USC, CA US  2017-06-21  1.79   0.0   \n",
       "538  USW00093134  LOS ANGELES DOWNTOWN USC, CA US  2017-06-22  0.00   0.0   \n",
       "539  USW00093134  LOS ANGELES DOWNTOWN USC, CA US  2017-06-23  2.68   0.0   \n",
       "\n",
       "     TMAX  TMIN   WDF2   WDF5  WSF2  WSF5  \n",
       "0      64    43   10.0   30.0   8.1  11.0  \n",
       "1      65    47  270.0   30.0   6.0   8.9  \n",
       "2      62    44  150.0  150.0  10.1  14.1  \n",
       "3      69    55  270.0  280.0   8.1  14.1  \n",
       "4      59    49  140.0  140.0  10.1  16.1  \n",
       "..    ...   ...    ...    ...   ...   ...  \n",
       "535    84    63  270.0  270.0   8.1  13.0  \n",
       "536    84    63  270.0  260.0   8.1  13.0  \n",
       "537    82    64  270.0  280.0   6.9  11.0  \n",
       "538    81    65  270.0  270.0   8.9  14.1  \n",
       "539    78    63  270.0  280.0  10.1  17.0  \n",
       "\n",
       "[540 rows x 11 columns]"
      ]
     },
     "execution_count": 8,
     "metadata": {},
     "output_type": "execute_result"
    }
   ],
   "source": [
    "df.head(540)"
   ]
  },
  {
   "cell_type": "code",
   "execution_count": 9,
   "id": "da991db3",
   "metadata": {},
   "outputs": [
    {
     "data": {
      "text/html": [
       "<div>\n",
       "<style scoped>\n",
       "    .dataframe tbody tr th:only-of-type {\n",
       "        vertical-align: middle;\n",
       "    }\n",
       "\n",
       "    .dataframe tbody tr th {\n",
       "        vertical-align: top;\n",
       "    }\n",
       "\n",
       "    .dataframe thead th {\n",
       "        text-align: right;\n",
       "    }\n",
       "</style>\n",
       "<table border=\"1\" class=\"dataframe\">\n",
       "  <thead>\n",
       "    <tr style=\"text-align: right;\">\n",
       "      <th></th>\n",
       "      <th>STATION</th>\n",
       "      <th>NAME</th>\n",
       "      <th>DATE</th>\n",
       "      <th>AWND</th>\n",
       "      <th>PRCP</th>\n",
       "      <th>TMAX</th>\n",
       "      <th>TMIN</th>\n",
       "      <th>WDF2</th>\n",
       "      <th>WDF5</th>\n",
       "      <th>WSF2</th>\n",
       "      <th>WSF5</th>\n",
       "    </tr>\n",
       "  </thead>\n",
       "  <tbody>\n",
       "    <tr>\n",
       "      <th>0</th>\n",
       "      <td>0</td>\n",
       "      <td>0</td>\n",
       "      <td>0</td>\n",
       "      <td>2.46</td>\n",
       "      <td>0.0</td>\n",
       "      <td>64</td>\n",
       "      <td>43</td>\n",
       "      <td>10.0</td>\n",
       "      <td>30.0</td>\n",
       "      <td>8.1</td>\n",
       "      <td>11.0</td>\n",
       "    </tr>\n",
       "    <tr>\n",
       "      <th>1</th>\n",
       "      <td>0</td>\n",
       "      <td>0</td>\n",
       "      <td>1</td>\n",
       "      <td>2.01</td>\n",
       "      <td>0.0</td>\n",
       "      <td>65</td>\n",
       "      <td>47</td>\n",
       "      <td>270.0</td>\n",
       "      <td>30.0</td>\n",
       "      <td>6.0</td>\n",
       "      <td>8.9</td>\n",
       "    </tr>\n",
       "    <tr>\n",
       "      <th>2</th>\n",
       "      <td>0</td>\n",
       "      <td>0</td>\n",
       "      <td>2</td>\n",
       "      <td>0.67</td>\n",
       "      <td>0.0</td>\n",
       "      <td>62</td>\n",
       "      <td>44</td>\n",
       "      <td>150.0</td>\n",
       "      <td>150.0</td>\n",
       "      <td>10.1</td>\n",
       "      <td>14.1</td>\n",
       "    </tr>\n",
       "    <tr>\n",
       "      <th>3</th>\n",
       "      <td>0</td>\n",
       "      <td>0</td>\n",
       "      <td>3</td>\n",
       "      <td>1.34</td>\n",
       "      <td>1.0</td>\n",
       "      <td>69</td>\n",
       "      <td>55</td>\n",
       "      <td>270.0</td>\n",
       "      <td>280.0</td>\n",
       "      <td>8.1</td>\n",
       "      <td>14.1</td>\n",
       "    </tr>\n",
       "    <tr>\n",
       "      <th>4</th>\n",
       "      <td>0</td>\n",
       "      <td>0</td>\n",
       "      <td>4</td>\n",
       "      <td>2.46</td>\n",
       "      <td>1.0</td>\n",
       "      <td>59</td>\n",
       "      <td>49</td>\n",
       "      <td>140.0</td>\n",
       "      <td>140.0</td>\n",
       "      <td>10.1</td>\n",
       "      <td>16.1</td>\n",
       "    </tr>\n",
       "  </tbody>\n",
       "</table>\n",
       "</div>"
      ],
      "text/plain": [
       "   STATION  NAME  DATE  AWND  PRCP  TMAX  TMIN   WDF2   WDF5  WSF2  WSF5\n",
       "0        0     0     0  2.46   0.0    64    43   10.0   30.0   8.1  11.0\n",
       "1        0     0     1  2.01   0.0    65    47  270.0   30.0   6.0   8.9\n",
       "2        0     0     2  0.67   0.0    62    44  150.0  150.0  10.1  14.1\n",
       "3        0     0     3  1.34   1.0    69    55  270.0  280.0   8.1  14.1\n",
       "4        0     0     4  2.46   1.0    59    49  140.0  140.0  10.1  16.1"
      ]
     },
     "execution_count": 9,
     "metadata": {},
     "output_type": "execute_result"
    }
   ],
   "source": [
    "#normalizing data\n",
    "import numpy as np\n",
    "import seaborn as sns\n",
    "from sklearn.preprocessing import LabelEncoder\n",
    "\n",
    "label_encoder = LabelEncoder()\n",
    "df['STATION'] = label_encoder.fit_transform(df['STATION'])\n",
    "df['NAME'] = label_encoder.fit_transform(df['NAME'])\n",
    "df['DATE'] = label_encoder.fit_transform(df['DATE'])\n",
    "df.head()"
   ]
  },
  {
   "cell_type": "code",
   "execution_count": 10,
   "id": "5a9c78e8",
   "metadata": {},
   "outputs": [
    {
     "data": {
      "text/plain": [
       "(array([          nan,           nan,  845.54850795,   79.05899558,\n",
       "         318.33894152,   54.00341786, 2310.12947627, 1828.05882977,\n",
       "          32.19213439,   83.73695329]),\n",
       " array([            nan,             nan, 6.75045568e-186, 6.02826182e-019,\n",
       "        3.33210470e-071, 2.00141159e-013, 0.00000000e+000, 0.00000000e+000,\n",
       "        1.39654983e-008, 5.65188246e-020]))"
      ]
     },
     "execution_count": 10,
     "metadata": {},
     "output_type": "execute_result"
    }
   ],
   "source": [
    "from sklearn.feature_selection import chi2\n",
    "\n",
    "X = df.drop('PRCP',axis=1)\n",
    "y = df['PRCP']\n",
    "scores = chi2(X,y)\n",
    "scores"
   ]
  },
  {
   "cell_type": "code",
   "execution_count": 11,
   "id": "10984eb1",
   "metadata": {},
   "outputs": [
    {
     "data": {
      "text/plain": [
       "<AxesSubplot:>"
      ]
     },
     "execution_count": 11,
     "metadata": {},
     "output_type": "execute_result"
    },
    {
     "data": {
      "image/png": "[encoded data removed]",
      "text/plain": [
       "<Figure size 432x288 with 1 Axes>"
      ]
     },
     "metadata": {
      "needs_background": "light"
     },
     "output_type": "display_data"
    }
   ],
   "source": [
    "p_values = pd.Series(scores[1],index = X.columns)\n",
    "p_values.sort_values(ascending = False , inplace = True)\n",
    "p_values.plot.bar()"
   ]
  },
  {
   "cell_type": "code",
   "execution_count": 12,
   "id": "414ad53e",
   "metadata": {},
   "outputs": [],
   "source": [
    "#Splitting data into test and train datasets\n",
    "from sklearn.model_selection import train_test_split\n",
    "  \n",
    "X_train, X_test, y_train, y_test = train_test_split(X, y, test_size=0.25, random_state=0)"
   ]
  },
  {
   "cell_type": "code",
   "execution_count": 13,
   "id": "aae660f6",
   "metadata": {},
   "outputs": [],
   "source": [
    "# make class predictions for the testing set\n",
    "from sklearn.linear_model import LogisticRegression\n",
    "logreg = LogisticRegression(max_iter=3000).fit(X_train,y_train)\n",
    "y_pred_class = logreg.predict(X_test)"
   ]
  },
  {
   "cell_type": "code",
   "execution_count": 14,
   "id": "6c6e4183",
   "metadata": {
    "scrolled": true
   },
   "outputs": [
    {
     "name": "stdout",
     "output_type": "stream",
     "text": [
      "0.936542669584245\n"
     ]
    }
   ],
   "source": [
    "# calculate accuracy\n",
    "from sklearn import metrics\n",
    "print(metrics.accuracy_score(y_test, y_pred_class))"
   ]
  },
  {
   "cell_type": "code",
   "execution_count": 15,
   "id": "c29130b8",
   "metadata": {},
   "outputs": [
    {
     "name": "stdout",
     "output_type": "stream",
     "text": [
      "0.6818181818181818\n"
     ]
    }
   ],
   "source": [
    "# calculate precision\n",
    "print(metrics.precision_score(y_test, y_pred_class))"
   ]
  },
  {
   "cell_type": "code",
   "execution_count": 16,
   "id": "6c651641",
   "metadata": {},
   "outputs": [
    {
     "name": "stdout",
     "output_type": "stream",
     "text": [
      "0.40540540540540543\n"
     ]
    }
   ],
   "source": [
    "# calculate recall\n",
    "print(metrics.recall_score(y_test, y_pred_class))"
   ]
  },
  {
   "cell_type": "code",
   "execution_count": 17,
   "id": "c8dbcd8b",
   "metadata": {},
   "outputs": [
    {
     "data": {
      "image/png": "[encoded data removed]",
      "text/plain": [
       "<Figure size 432x288 with 1 Axes>"
      ]
     },
     "metadata": {
      "needs_background": "light"
     },
     "output_type": "display_data"
    }
   ],
   "source": [
    "from sklearn.metrics import precision_recall_curve\n",
    "#calculate precision and recall\n",
    "precision, recall, thresholds = precision_recall_curve(y_test, y_pred_class)\n",
    "\n",
    "#create precision recall curve\n",
    "fig, ax = plt.subplots()\n",
    "ax.plot(recall, precision, color='purple')\n",
    "\n",
    "#add axis labels to plot\n",
    "ax.set_title('Precision-Recall Curve')\n",
    "ax.set_ylabel('Precision')\n",
    "ax.set_xlabel('Recall')\n",
    "\n",
    "#display plot\n",
    "plt.show()"
   ]
  },
  {
   "cell_type": "code",
   "execution_count": 18,
   "id": "5bf19b77",
   "metadata": {},
   "outputs": [
    {
     "name": "stdout",
     "output_type": "stream",
     "text": [
      "0.5084745762711864\n"
     ]
    }
   ],
   "source": [
    "# calculate F-1 score\n",
    "print(metrics.f1_score(y_test, y_pred_class))"
   ]
  },
  {
   "cell_type": "code",
   "execution_count": 19,
   "id": "08160a84",
   "metadata": {},
   "outputs": [
    {
     "name": "stdout",
     "output_type": "stream",
     "text": [
      "0.6943693693693694\n"
     ]
    }
   ],
   "source": [
    "# calculate ROC_AUC\n",
    "print(metrics.roc_auc_score(y_test, y_pred_class))"
   ]
  },
  {
   "cell_type": "code",
   "execution_count": 20,
   "id": "02f4fb92",
   "metadata": {
    "scrolled": false
   },
   "outputs": [
    {
     "data": {
      "image/png": "[encoded data removed]",
      "text/plain": [
       "<Figure size 432x288 with 1 Axes>"
      ]
     },
     "metadata": {
      "needs_background": "light"
     },
     "output_type": "display_data"
    }
   ],
   "source": [
    "fpr, tpr, _ = metrics.roc_curve(y_test,  y_pred_class)\n",
    "auc = metrics.roc_auc_score(y_test, y_pred_class)\n",
    "plt.plot(fpr,tpr,label=\"data 1, auc=\"+str(auc))\n",
    "plt.legend(loc=4)\n",
    "plt.title('ROC_AUC CURVE', fontsize=12)\n",
    "plt.show()"
   ]
  },
  {
   "cell_type": "code",
   "execution_count": 21,
   "id": "6af2230f",
   "metadata": {},
   "outputs": [
    {
     "name": "stdout",
     "output_type": "stream",
     "text": [
      "[[413   7]\n",
      " [ 22  15]]\n"
     ]
    }
   ],
   "source": [
    "print(metrics.confusion_matrix(y_test, y_pred_class))"
   ]
  },
  {
   "cell_type": "code",
   "execution_count": 22,
   "id": "1774b8a1",
   "metadata": {},
   "outputs": [
    {
     "data": {
      "image/png": "[encoded data removed]",
      "text/plain": [
       "<Figure size 432x288 with 2 Axes>"
      ]
     },
     "metadata": {
      "needs_background": "light"
     },
     "output_type": "display_data"
    }
   ],
   "source": [
    "from sklearn.datasets import make_classification\n",
    "from sklearn.metrics import plot_confusion_matrix\n",
    "from sklearn.svm import SVC\n",
    "X, y = make_classification(random_state=0)\n",
    "clf = SVC(random_state=0)\n",
    "clf.fit(X_train, y_train)\n",
    "SVC(random_state=0)\n",
    "plot_confusion_matrix(clf, X_test, y_test)\n",
    "plt.title('Confusion Matrix', fontsize=14)\n",
    "plt.show()"
   ]
  },
  {
   "cell_type": "code",
   "execution_count": null,
   "id": "57592681",
   "metadata": {},
   "outputs": [
    {
     "data": {
      "text/plain": [
       "<seaborn.axisgrid.PairGrid at 0x253831c7ca0>"
      ]
     },
     "execution_count": 23,
     "metadata": {},
     "output_type": "execute_result"
    }
   ],
   "source": [
    "#visualizing using seaborn\n",
    "import seaborn as sns\n",
    "\n",
    "sns.pairplot(df.iloc[:, :], hue='PRCP', corner=True)"
   ]
  },
  {
   "cell_type": "code",
   "execution_count": null,
   "id": "8252a2df",
   "metadata": {},
   "outputs": [],
   "source": []
  }
 ],
 "metadata": {
  "kernelspec": {
   "display_name": "Python 3 (ipykernel)",
   "language": "python",
   "name": "python3"
  },
  "language_info": {
   "codemirror_mode": {
    "name": "ipython",
    "version": 3
   },
   "file_extension": ".py",
   "mimetype": "text/x-python",
   "name": "python",
   "nbconvert_exporter": "python",
   "pygments_lexer": "ipython3",
   "version": "3.9.7"
  }
 },
 "nbformat": 4,
 "nbformat_minor": 5
}
